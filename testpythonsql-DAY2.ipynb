{
 "cells": [
  {
   "cell_type": "code",
   "execution_count": null,
   "id": "6381ef65",
   "metadata": {},
   "outputs": [],
   "source": []
  },
  {
   "cell_type": "code",
   "execution_count": 6,
   "id": "01c4d851",
   "metadata": {},
   "outputs": [
    {
     "name": "stdout",
     "output_type": "stream",
     "text": [
      "(1, 'Kabul', 'AFG', 'Kabol', 1780000)\n",
      "(2, 'Qandahar', 'AFG', 'Qandahar', 237500)\n",
      "(3, 'Herat', 'AFG', 'Herat', 186800)\n",
      "(4, 'Mazar-e-Sharif', 'AFG', 'Balkh', 127800)\n",
      "(5, 'Amsterdam', 'NLD', 'Noord-Holland', 731200)\n"
     ]
    }
   ],
   "source": [
    "import psycopg2\n",
    "import os\n",
    "\n",
    "\n",
    "password = os.getenv(\"DB_PASSWORD\")\n",
    "\n",
    "# Connect to the PostgreSQL database\n",
    "con = psycopg2.connect(\n",
    "    host=\"localhost\",\n",
    "    database=\"world\",\n",
    "    port=5432,\n",
    "    user=\"postgres\",\n",
    "    password = password  # Replace with your actual password\n",
    ")\n",
    "\n",
    "# Create a cursor to execute SQL commands\n",
    "cur = con.cursor()\n",
    "\n",
    "# Example: run a test query\n",
    "cur.execute(\"SELECT * FROM city LIMIT 5;\")\n",
    "rows = cur.fetchall()\n",
    "\n",
    "# Print result\n",
    "for row in rows:\n",
    "    print(row)\n",
    "\n",
    "# Clean up\n",
    "cur.close()\n",
    "con.close()\n"
   ]
  },
  {
   "cell_type": "code",
   "execution_count": null,
   "id": "a3263c23",
   "metadata": {},
   "outputs": [],
   "source": []
  }
 ],
 "metadata": {
  "kernelspec": {
   "display_name": "Python 3",
   "language": "python",
   "name": "python3"
  },
  "language_info": {
   "codemirror_mode": {
    "name": "ipython",
    "version": 3
   },
   "file_extension": ".py",
   "mimetype": "text/x-python",
   "name": "python",
   "nbconvert_exporter": "python",
   "pygments_lexer": "ipython3",
   "version": "3.12.6"
  }
 },
 "nbformat": 4,
 "nbformat_minor": 5
}
